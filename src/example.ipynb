{
  "nbformat": 4,
  "nbformat_minor": 0,
  "metadata": {
    "colab": {
      "name": "example.ipynb",
      "provenance": [],
      "collapsed_sections": [],
      "authorship_tag": "ABX9TyNlAxcqWPqD1ahfBzAheRbz",
      "include_colab_link": true
    },
    "kernelspec": {
      "name": "python3",
      "display_name": "Python 3"
    }
  },
  "cells": [
    {
      "cell_type": "markdown",
      "metadata": {
        "id": "view-in-github",
        "colab_type": "text"
      },
      "source": [
        "<a href=\"https://colab.research.google.com/github/urbanogilson/AEDS3/blob/master/src/example.ipynb\" target=\"_parent\"><img src=\"https://colab.research.google.com/assets/colab-badge.svg\" alt=\"Open In Colab\"/></a>"
      ]
    },
    {
      "cell_type": "code",
      "metadata": {
        "colab": {
          "base_uri": "https://localhost:8080/"
        },
        "id": "SewHp3K6wrri",
        "outputId": "a55b09da-74bb-43d1-a305-e1af06332786"
      },
      "source": [
        "from google.colab import drive\r\n",
        "drive.mount('/content/drive')"
      ],
      "execution_count": 1,
      "outputs": [
        {
          "output_type": "stream",
          "text": [
            "Drive already mounted at /content/drive; to attempt to forcibly remount, call drive.mount(\"/content/drive\", force_remount=True).\n"
          ],
          "name": "stdout"
        }
      ]
    },
    {
      "cell_type": "code",
      "metadata": {
        "colab": {
          "base_uri": "https://localhost:8080/"
        },
        "id": "GLarioSL0AdR",
        "outputId": "51e64aee-6865-4ba9-f72f-e5c742a8d467"
      },
      "source": [
        "!git clone https://github.com/urbanogilson/SICAR.git\r\n",
        "!sudo apt install tesseract-ocr\r\n",
        "!pip install pytesseract"
      ],
      "execution_count": 2,
      "outputs": [
        {
          "output_type": "stream",
          "text": [
            "fatal: destination path 'SICAR' already exists and is not an empty directory.\n",
            "Reading package lists... Done\n",
            "Building dependency tree       \n",
            "Reading state information... Done\n",
            "tesseract-ocr is already the newest version (4.00~git2288-10f4998a-2).\n",
            "0 upgraded, 0 newly installed, 0 to remove and 17 not upgraded.\n",
            "Requirement already satisfied: pytesseract in /usr/local/lib/python3.6/dist-packages (0.3.7)\n",
            "Requirement already satisfied: Pillow in /usr/local/lib/python3.6/dist-packages (from pytesseract) (7.0.0)\n"
          ],
          "name": "stdout"
        }
      ]
    },
    {
      "cell_type": "code",
      "metadata": {
        "id": "0SiOtCnby3TY"
      },
      "source": [
        "from SICAR.src.sicar import Sicar\r\n",
        "import pprint"
      ],
      "execution_count": 4,
      "outputs": []
    },
    {
      "cell_type": "code",
      "metadata": {
        "id": "mh1l468ry2pk"
      },
      "source": [
        "# Create Sicar instance\r\n",
        "car = Sicar(email = \"sicar@sicar.com\")"
      ],
      "execution_count": 5,
      "outputs": []
    },
    {
      "cell_type": "code",
      "metadata": {
        "id": "OD-ZiKyYy2Zw"
      },
      "source": [
        "# Get cities codes by state\r\n",
        "cities_codes_rr = car.get_cities_codes(state='RR')"
      ],
      "execution_count": 6,
      "outputs": []
    },
    {
      "cell_type": "code",
      "metadata": {
        "colab": {
          "base_uri": "https://localhost:8080/"
        },
        "id": "YQLxBxLz0RBQ",
        "outputId": "69782321-6baa-4648-e0b4-a359a4cbab5b"
      },
      "source": [
        "pprint.pprint(cities_codes_rr)"
      ],
      "execution_count": 7,
      "outputs": [
        {
          "output_type": "stream",
          "text": [
            "{'Alto Alegre': '1400050',\n",
            " 'Amajari': '1400027',\n",
            " 'Boa Vista': '1400100',\n",
            " 'Bonfim': '1400159',\n",
            " 'Cantá': '1400175',\n",
            " 'Caracaraí': '1400209',\n",
            " 'Caroebe': '1400233',\n",
            " 'Iracema': '1400282',\n",
            " 'Mucajaí': '1400308',\n",
            " 'Normandia': '1400407',\n",
            " 'Pacaraima': '1400456',\n",
            " 'Rorainópolis': '1400472',\n",
            " 'São João da Baliza': '1400506',\n",
            " 'São Luiz': '1400605',\n",
            " 'Uiramutã': '1400704'}\n"
          ],
          "name": "stdout"
        }
      ]
    },
    {
      "cell_type": "markdown",
      "metadata": {
        "id": "CRSKdPny0W4T"
      },
      "source": [
        "### Download city"
      ]
    },
    {
      "cell_type": "code",
      "metadata": {
        "colab": {
          "base_uri": "https://localhost:8080/"
        },
        "id": "y_X3LgYs0RHJ",
        "outputId": "81467fbb-0968-41f6-f61e-c5f1fa7c9f20"
      },
      "source": [
        "# 'São Sebastião do Uatumã': '1303957'\r\n",
        "car.download_city_code('1303957', folder='temp', debug=True)"
      ],
      "execution_count": 8,
      "outputs": [
        {
          "output_type": "stream",
          "text": [
            "Try 25 - Requesting shape file with captcha: JONCK\n",
            "Try 25 - Incorret captcha: JONCK :-(\n",
            "Try 24 - Requesting shape file with captcha: VbdVr\n",
            "Try 24 - Incorret captcha: VbdVr :-(\n",
            "Try 23 - Requesting shape file with captcha: etVsw\n",
            "Try 23 - Incorret captcha: etVsw :-(\n",
            "Try 22 - Requesting shape file with captcha: TjSnk\n",
            "Try 22 - Incorret captcha: TjSnk :-(\n",
            "Try 21 - Requesting shape file with captcha: LNBAD\n",
            "Try 21 - Incorret captcha: LNBAD :-(\n",
            "Invalid Captcha: vtybXx\n",
            "Try 20 - Requesting shape file with captcha: xuzor\n",
            "Try 20 - Incorret captcha: xuzor :-(\n",
            "Try 19 - Requesting shape file with captcha: Riz7Y\n",
            "Try 19 - Incorret captcha: Riz7Y :-(\n",
            "Invalid Captcha: GWH4\n",
            "Invalid Captcha: 3X0G\n",
            "Try 18 - Requesting shape file with captcha: yORSF\n",
            "Try 18 - Incorret captcha: yORSF :-(\n",
            "Invalid Captcha: JyBL\n",
            "Try 17 - Requesting shape file with captcha: Thiet\n",
            "Try 17 - Incorret captcha: Thiet :-(\n",
            "Try 16 - Requesting shape file with captcha: QTzur\n",
            "Try 16 - Incorret captcha: QTzur :-(\n",
            "Try 15 - Requesting shape file with captcha: TFMax\n",
            "Try 15 - Incorret captcha: TFMax :-(\n",
            "Invalid Captcha: CREB\n",
            "Invalid Captcha: e\n",
            "Try 14 - Requesting shape file with captcha: NXHPZ\n",
            "Try 14 - Incorret captcha: NXHPZ :-(\n",
            "Invalid Captcha: KCtR\n",
            "Try 13 - Requesting shape file with captcha: SAqgV\n",
            "Try 13 - Incorret captcha: SAqgV :-(\n",
            "Invalid Captcha: mKuz\n",
            "Try 12 - Requesting shape file with captcha: Y2Ntg\n",
            "Try 12 - Downloaded city code: 1303957 using captcha Y2Ntg\n"
          ],
          "name": "stdout"
        },
        {
          "output_type": "execute_result",
          "data": {
            "text/plain": [
              "True"
            ]
          },
          "metadata": {
            "tags": []
          },
          "execution_count": 8
        }
      ]
    },
    {
      "cell_type": "markdown",
      "metadata": {
        "id": "Le170ede1Gmu"
      },
      "source": [
        "### Download cities"
      ]
    },
    {
      "cell_type": "code",
      "metadata": {
        "colab": {
          "base_uri": "https://localhost:8080/"
        },
        "id": "GSoc1FBD0RJo",
        "outputId": "3d124ff4-f8ef-4768-a421-55661c80bbca"
      },
      "source": [
        "cities_codes = {\r\n",
        "    'São Gabriel da Cachoeira': '1303809',\r\n",
        "    'São Paulo de Olivença': '1303908'\r\n",
        "}\r\n",
        "\r\n",
        "car.download_cities(cities_codes=cities_codes, folder='temp', debug=True)"
      ],
      "execution_count": 9,
      "outputs": [
        {
          "output_type": "stream",
          "text": [
            "Downloading: São Gabriel da Cachoeira 1303809\n",
            "Try 25 - Requesting shape file with captcha: V27Ka\n",
            "Try 25 - Downloaded city code: 1303809 using captcha V27Ka\n",
            "Downloading: São Paulo de Olivença 1303908\n",
            "Try 25 - Requesting shape file with captcha: DSBBC\n",
            "Try 25 - Downloaded city code: 1303908 using captcha DSBBC\n"
          ],
          "name": "stdout"
        }
      ]
    },
    {
      "cell_type": "markdown",
      "metadata": {
        "id": "UOPTmr7J1JDy"
      },
      "source": [
        "### Download state"
      ]
    },
    {
      "cell_type": "code",
      "metadata": {
        "colab": {
          "base_uri": "https://localhost:8080/"
        },
        "id": "TgGAFvbG0RME",
        "outputId": "a614dcd2-1c66-45e1-cdf5-63b2613d8cdb"
      },
      "source": [
        "car.download_state(state='RR', debug=False)"
      ],
      "execution_count": null,
      "outputs": [
        {
          "output_type": "stream",
          "text": [
            "Downloading: Alto Alegre 1400050\n",
            "Downloading: Amajari 1400027\n",
            "Downloading: Boa Vista 1400100\n",
            "Downloading: Bonfim 1400159\n",
            "Downloading: Cantá 1400175\n",
            "Downloading: Caracaraí 1400209\n",
            "Downloading: Caroebe 1400233\n",
            "Downloading: Iracema 1400282\n",
            "Downloading: Mucajaí 1400308\n"
          ],
          "name": "stdout"
        }
      ]
    }
  ]
}